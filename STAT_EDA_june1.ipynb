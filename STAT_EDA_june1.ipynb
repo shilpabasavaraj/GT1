{
 "cells": [
  {
   "cell_type": "code",
   "execution_count": 63,
   "id": "63c96e3f",
   "metadata": {},
   "outputs": [],
   "source": [
    "import math\n",
    "import numpy as np\n",
    "import pandas as pd\n",
    "import matplotlib.pyplot as plt\n",
    "import statistics\n",
    "import scipy.stats\n",
    "import seaborn as sns\n",
    "%matplotlib inline\n"
   ]
  },
  {
   "cell_type": "code",
   "execution_count": 64,
   "id": "591c6a2e",
   "metadata": {},
   "outputs": [],
   "source": [
    "df = pd.read_csv(\"bodyPerformance.csv\")"
   ]
  },
  {
   "cell_type": "code",
   "execution_count": 65,
   "id": "604655cb",
   "metadata": {},
   "outputs": [
    {
     "data": {
      "text/html": [
       "<div>\n",
       "<style scoped>\n",
       "    .dataframe tbody tr th:only-of-type {\n",
       "        vertical-align: middle;\n",
       "    }\n",
       "\n",
       "    .dataframe tbody tr th {\n",
       "        vertical-align: top;\n",
       "    }\n",
       "\n",
       "    .dataframe thead th {\n",
       "        text-align: right;\n",
       "    }\n",
       "</style>\n",
       "<table border=\"1\" class=\"dataframe\">\n",
       "  <thead>\n",
       "    <tr style=\"text-align: right;\">\n",
       "      <th></th>\n",
       "      <th>age</th>\n",
       "      <th>gender</th>\n",
       "      <th>height_cm</th>\n",
       "      <th>weight_kg</th>\n",
       "      <th>body fat_%</th>\n",
       "      <th>diastolic</th>\n",
       "      <th>systolic</th>\n",
       "      <th>gripForce</th>\n",
       "      <th>sit and bend forward_cm</th>\n",
       "      <th>sit-ups counts</th>\n",
       "      <th>broad jump_cm</th>\n",
       "      <th>class</th>\n",
       "    </tr>\n",
       "  </thead>\n",
       "  <tbody>\n",
       "    <tr>\n",
       "      <th>0</th>\n",
       "      <td>27.0</td>\n",
       "      <td>M</td>\n",
       "      <td>172.3</td>\n",
       "      <td>75.24</td>\n",
       "      <td>21.3</td>\n",
       "      <td>80.0</td>\n",
       "      <td>130.0</td>\n",
       "      <td>54.9</td>\n",
       "      <td>18.4</td>\n",
       "      <td>60.0</td>\n",
       "      <td>217.0</td>\n",
       "      <td>C</td>\n",
       "    </tr>\n",
       "    <tr>\n",
       "      <th>1</th>\n",
       "      <td>25.0</td>\n",
       "      <td>M</td>\n",
       "      <td>165.0</td>\n",
       "      <td>55.80</td>\n",
       "      <td>15.7</td>\n",
       "      <td>77.0</td>\n",
       "      <td>126.0</td>\n",
       "      <td>36.4</td>\n",
       "      <td>16.3</td>\n",
       "      <td>53.0</td>\n",
       "      <td>229.0</td>\n",
       "      <td>A</td>\n",
       "    </tr>\n",
       "  </tbody>\n",
       "</table>\n",
       "</div>"
      ],
      "text/plain": [
       "    age gender  height_cm  weight_kg  body fat_%  diastolic  systolic  \\\n",
       "0  27.0      M      172.3      75.24        21.3       80.0     130.0   \n",
       "1  25.0      M      165.0      55.80        15.7       77.0     126.0   \n",
       "\n",
       "   gripForce  sit and bend forward_cm  sit-ups counts  broad jump_cm class  \n",
       "0       54.9                     18.4            60.0          217.0     C  \n",
       "1       36.4                     16.3            53.0          229.0     A  "
      ]
     },
     "execution_count": 65,
     "metadata": {},
     "output_type": "execute_result"
    }
   ],
   "source": [
    "df.head(2)"
   ]
  },
  {
   "cell_type": "code",
   "execution_count": 66,
   "id": "51915b3b",
   "metadata": {},
   "outputs": [
    {
     "data": {
      "text/html": [
       "<div>\n",
       "<style scoped>\n",
       "    .dataframe tbody tr th:only-of-type {\n",
       "        vertical-align: middle;\n",
       "    }\n",
       "\n",
       "    .dataframe tbody tr th {\n",
       "        vertical-align: top;\n",
       "    }\n",
       "\n",
       "    .dataframe thead th {\n",
       "        text-align: right;\n",
       "    }\n",
       "</style>\n",
       "<table border=\"1\" class=\"dataframe\">\n",
       "  <thead>\n",
       "    <tr style=\"text-align: right;\">\n",
       "      <th></th>\n",
       "      <th>age</th>\n",
       "      <th>height_cm</th>\n",
       "      <th>weight_kg</th>\n",
       "      <th>body fat_%</th>\n",
       "      <th>diastolic</th>\n",
       "      <th>systolic</th>\n",
       "      <th>gripForce</th>\n",
       "      <th>sit and bend forward_cm</th>\n",
       "      <th>sit-ups counts</th>\n",
       "      <th>broad jump_cm</th>\n",
       "    </tr>\n",
       "  </thead>\n",
       "  <tbody>\n",
       "    <tr>\n",
       "      <th>count</th>\n",
       "      <td>13393.000000</td>\n",
       "      <td>13393.000000</td>\n",
       "      <td>13393.000000</td>\n",
       "      <td>13393.000000</td>\n",
       "      <td>13393.000000</td>\n",
       "      <td>13393.000000</td>\n",
       "      <td>13393.000000</td>\n",
       "      <td>13393.000000</td>\n",
       "      <td>13393.000000</td>\n",
       "      <td>13393.000000</td>\n",
       "    </tr>\n",
       "    <tr>\n",
       "      <th>mean</th>\n",
       "      <td>36.775106</td>\n",
       "      <td>168.559807</td>\n",
       "      <td>67.447316</td>\n",
       "      <td>23.240165</td>\n",
       "      <td>78.796842</td>\n",
       "      <td>130.234817</td>\n",
       "      <td>36.963877</td>\n",
       "      <td>15.209268</td>\n",
       "      <td>39.771224</td>\n",
       "      <td>190.129627</td>\n",
       "    </tr>\n",
       "    <tr>\n",
       "      <th>std</th>\n",
       "      <td>13.625639</td>\n",
       "      <td>8.426583</td>\n",
       "      <td>11.949666</td>\n",
       "      <td>7.256844</td>\n",
       "      <td>10.742033</td>\n",
       "      <td>14.713954</td>\n",
       "      <td>10.624864</td>\n",
       "      <td>8.456677</td>\n",
       "      <td>14.276698</td>\n",
       "      <td>39.868000</td>\n",
       "    </tr>\n",
       "    <tr>\n",
       "      <th>min</th>\n",
       "      <td>21.000000</td>\n",
       "      <td>125.000000</td>\n",
       "      <td>26.300000</td>\n",
       "      <td>3.000000</td>\n",
       "      <td>0.000000</td>\n",
       "      <td>0.000000</td>\n",
       "      <td>0.000000</td>\n",
       "      <td>-25.000000</td>\n",
       "      <td>0.000000</td>\n",
       "      <td>0.000000</td>\n",
       "    </tr>\n",
       "    <tr>\n",
       "      <th>25%</th>\n",
       "      <td>25.000000</td>\n",
       "      <td>162.400000</td>\n",
       "      <td>58.200000</td>\n",
       "      <td>18.000000</td>\n",
       "      <td>71.000000</td>\n",
       "      <td>120.000000</td>\n",
       "      <td>27.500000</td>\n",
       "      <td>10.900000</td>\n",
       "      <td>30.000000</td>\n",
       "      <td>162.000000</td>\n",
       "    </tr>\n",
       "    <tr>\n",
       "      <th>50%</th>\n",
       "      <td>32.000000</td>\n",
       "      <td>169.200000</td>\n",
       "      <td>67.400000</td>\n",
       "      <td>22.800000</td>\n",
       "      <td>79.000000</td>\n",
       "      <td>130.000000</td>\n",
       "      <td>37.900000</td>\n",
       "      <td>16.200000</td>\n",
       "      <td>41.000000</td>\n",
       "      <td>193.000000</td>\n",
       "    </tr>\n",
       "    <tr>\n",
       "      <th>75%</th>\n",
       "      <td>48.000000</td>\n",
       "      <td>174.800000</td>\n",
       "      <td>75.300000</td>\n",
       "      <td>28.000000</td>\n",
       "      <td>86.000000</td>\n",
       "      <td>141.000000</td>\n",
       "      <td>45.200000</td>\n",
       "      <td>20.700000</td>\n",
       "      <td>50.000000</td>\n",
       "      <td>221.000000</td>\n",
       "    </tr>\n",
       "    <tr>\n",
       "      <th>max</th>\n",
       "      <td>64.000000</td>\n",
       "      <td>193.800000</td>\n",
       "      <td>138.100000</td>\n",
       "      <td>78.400000</td>\n",
       "      <td>156.200000</td>\n",
       "      <td>201.000000</td>\n",
       "      <td>70.500000</td>\n",
       "      <td>213.000000</td>\n",
       "      <td>80.000000</td>\n",
       "      <td>303.000000</td>\n",
       "    </tr>\n",
       "  </tbody>\n",
       "</table>\n",
       "</div>"
      ],
      "text/plain": [
       "                age     height_cm     weight_kg    body fat_%     diastolic  \\\n",
       "count  13393.000000  13393.000000  13393.000000  13393.000000  13393.000000   \n",
       "mean      36.775106    168.559807     67.447316     23.240165     78.796842   \n",
       "std       13.625639      8.426583     11.949666      7.256844     10.742033   \n",
       "min       21.000000    125.000000     26.300000      3.000000      0.000000   \n",
       "25%       25.000000    162.400000     58.200000     18.000000     71.000000   \n",
       "50%       32.000000    169.200000     67.400000     22.800000     79.000000   \n",
       "75%       48.000000    174.800000     75.300000     28.000000     86.000000   \n",
       "max       64.000000    193.800000    138.100000     78.400000    156.200000   \n",
       "\n",
       "           systolic     gripForce  sit and bend forward_cm  sit-ups counts  \\\n",
       "count  13393.000000  13393.000000             13393.000000    13393.000000   \n",
       "mean     130.234817     36.963877                15.209268       39.771224   \n",
       "std       14.713954     10.624864                 8.456677       14.276698   \n",
       "min        0.000000      0.000000               -25.000000        0.000000   \n",
       "25%      120.000000     27.500000                10.900000       30.000000   \n",
       "50%      130.000000     37.900000                16.200000       41.000000   \n",
       "75%      141.000000     45.200000                20.700000       50.000000   \n",
       "max      201.000000     70.500000               213.000000       80.000000   \n",
       "\n",
       "       broad jump_cm  \n",
       "count   13393.000000  \n",
       "mean      190.129627  \n",
       "std        39.868000  \n",
       "min         0.000000  \n",
       "25%       162.000000  \n",
       "50%       193.000000  \n",
       "75%       221.000000  \n",
       "max       303.000000  "
      ]
     },
     "execution_count": 66,
     "metadata": {},
     "output_type": "execute_result"
    }
   ],
   "source": [
    "df.describe()"
   ]
  },
  {
   "cell_type": "code",
   "execution_count": 67,
   "id": "f95043c1",
   "metadata": {},
   "outputs": [
    {
     "name": "stdout",
     "output_type": "stream",
     "text": [
      "<class 'pandas.core.frame.DataFrame'>\n",
      "RangeIndex: 13393 entries, 0 to 13392\n",
      "Data columns (total 12 columns):\n",
      " #   Column                   Non-Null Count  Dtype  \n",
      "---  ------                   --------------  -----  \n",
      " 0   age                      13393 non-null  float64\n",
      " 1   gender                   13393 non-null  object \n",
      " 2   height_cm                13393 non-null  float64\n",
      " 3   weight_kg                13393 non-null  float64\n",
      " 4   body fat_%               13393 non-null  float64\n",
      " 5   diastolic                13393 non-null  float64\n",
      " 6   systolic                 13393 non-null  float64\n",
      " 7   gripForce                13393 non-null  float64\n",
      " 8   sit and bend forward_cm  13393 non-null  float64\n",
      " 9   sit-ups counts           13393 non-null  float64\n",
      " 10  broad jump_cm            13393 non-null  float64\n",
      " 11  class                    13393 non-null  object \n",
      "dtypes: float64(10), object(2)\n",
      "memory usage: 1.2+ MB\n"
     ]
    }
   ],
   "source": [
    "df.info()"
   ]
  },
  {
   "cell_type": "code",
   "execution_count": 9,
   "id": "68e5f00f",
   "metadata": {},
   "outputs": [],
   "source": [
    "numeric_data = df.select_dtypes(exclude = 'object')"
   ]
  },
  {
   "cell_type": "code",
   "execution_count": 12,
   "id": "f3c24243",
   "metadata": {},
   "outputs": [],
   "source": [
    "categorical_data = df.select_dtypes(include = 'object') "
   ]
  },
  {
   "cell_type": "raw",
   "id": "16c283d0",
   "metadata": {},
   "source": [
    "df.skew()"
   ]
  },
  {
   "cell_type": "raw",
   "id": "17cafcb1",
   "metadata": {},
   "source": [
    "# density plots\n",
    "df['age'].plot(kind = 'density')"
   ]
  },
  {
   "cell_type": "raw",
   "id": "2dd4ee2b",
   "metadata": {},
   "source": [
    "#example of negative skewness\n",
    "df['sit-ups counts'].plot(kind = 'density')"
   ]
  },
  {
   "cell_type": "raw",
   "id": "52cf50c1",
   "metadata": {},
   "source": [
    "#Normal Distribution/Symmetric\n",
    "sns.distplot(df['weight_kg'],hist=True,kde=True)\n"
   ]
  },
  {
   "cell_type": "raw",
   "id": "a9f45a2d",
   "metadata": {},
   "source": [
    "#Density of all features\n",
    "df.plot.density(figsize = (25, 10),linewidth = 3)\n"
   ]
  },
  {
   "cell_type": "code",
   "execution_count": 26,
   "id": "e1822f2b",
   "metadata": {},
   "outputs": [
    {
     "data": {
      "text/plain": [
       "<seaborn.axisgrid.FacetGrid at 0x24db169a580>"
      ]
     },
     "execution_count": 26,
     "metadata": {},
     "output_type": "execute_result"
    },
    {
     "data": {
      "image/png": "[encoded data removed]",
      "text/plain": [
       "<Figure size 560.75x500 with 1 Axes>"
      ]
     },
     "metadata": {},
     "output_type": "display_data"
    }
   ],
   "source": [
    "sns.displot(df, x=\"weight_kg\", hue=\"class\", kind=\"kde\", multiple=\"stack\")\n"
   ]
  },
  {
   "cell_type": "raw",
   "id": "e1058e2b",
   "metadata": {},
   "source": [
    "sns.displot(df, x=\"weight_kg\", y=\"height_cm\", hue=\"gender\", kind=\"kde\")\n"
   ]
  },
  {
   "cell_type": "raw",
   "id": "09cff025",
   "metadata": {},
   "source": [
    "sns.jointplot(data=df, x=\"body fat_%\", y=\"age\", hue=\"gender\",kind=\"kde\")\n"
   ]
  },
  {
   "cell_type": "raw",
   "id": "5a431d85",
   "metadata": {},
   "source": [
    "df.kurt() "
   ]
  },
  {
   "cell_type": "code",
   "execution_count": 71,
   "id": "9eb297f9",
   "metadata": {},
   "outputs": [
    {
     "data": {
      "text/plain": [
       "Index(['age', 'height_cm', 'weight_kg', 'body fat_%', 'diastolic', 'systolic',\n",
       "       'gripForce', 'sit and bend forward_cm', 'sit-ups counts',\n",
       "       'broad jump_cm'],\n",
       "      dtype='object')"
      ]
     },
     "execution_count": 71,
     "metadata": {},
     "output_type": "execute_result"
    }
   ],
   "source": [
    "numeric_data.columns"
   ]
  },
  {
   "cell_type": "code",
   "execution_count": 34,
   "id": "4814e5a6",
   "metadata": {},
   "outputs": [
    {
     "name": "stdout",
     "output_type": "stream",
     "text": [
      "IQR of age : 23\n",
      "IQR of height_cm : 12\n",
      "IQR of weight_kg : 17\n",
      "IQR of body fat_% : 10\n",
      "IQR of diastolic : 15\n",
      "IQR of systolic : 21\n",
      "IQR of gripForce : 17\n",
      "IQR of sit and bend forward_cm : 9\n",
      "IQR of sit-ups counts : 20\n",
      "IQR of broad jump_cm : 59\n"
     ]
    }
   ],
   "source": [
    "#Inter Quartile Range(IQR)\n",
    " \n",
    "for col in numeric_data.columns:\n",
    "    Q1 = df[col].quantile(.25)\n",
    "    Q3 = df[col].quantile(.75)\n",
    "    IQR = Q3 - Q1\n",
    "    print('IQR of %s : %d' %(col,IQR)) \n",
    " "
   ]
  },
  {
   "cell_type": "raw",
   "id": "93fe60f7",
   "metadata": {},
   "source": [
    "#We can also find different percentiles of particular column\n",
    "df['weight_kg'].quantile([0.1,0.2,0.4,0.5])\n",
    "\n"
   ]
  },
  {
   "cell_type": "raw",
   "id": "339a16f1",
   "metadata": {},
   "source": [
    "#Range \n",
    "numeric_data.info()"
   ]
  },
  {
   "cell_type": "raw",
   "id": "b627545c",
   "metadata": {},
   "source": [
    "for col in numeric_data.columns:\n",
    "    range = df[col].max() - df[col].min()\n",
    "    print('range of %s : %d'%(col,range))"
   ]
  },
  {
   "cell_type": "raw",
   "id": "a0fa2f7f",
   "metadata": {},
   "source": [
    "df.mad()\n",
    "#The mean absolute deviation of a dataset is the\n",
    "#average distance between each data point and the mean. \n",
    "#It gives us an idea about the variability in a dataset."
   ]
  },
  {
   "cell_type": "raw",
   "id": "607b1bfd",
   "metadata": {},
   "source": [
    "#random sampling in python\n",
    "import random\n",
    "#r = random.randint(1,10)\n",
    "df.seed_value = 12\n",
    "df.sample(5)\n",
    "\n",
    "print(df)\n"
   ]
  },
  {
   "cell_type": "raw",
   "id": "b0dc2023",
   "metadata": {},
   "source": [
    "#A confidence interval for the mean is a range of values between which the population mean possibly lies.\n",
    "sns.regplot(data = df, x=\"weight_kg\", y=\"height_cm\", ci=95)\n"
   ]
  },
  {
   "cell_type": "code",
   "execution_count": 123,
   "id": "6d1a444f",
   "metadata": {},
   "outputs": [],
   "source": [
    "#Method to calculate C.I\n",
    "import numpy as np\n",
    "import scipy.stats"
   ]
  },
  {
   "cell_type": "code",
   "execution_count": 124,
   "id": "3dd415f3",
   "metadata": {},
   "outputs": [
    {
     "data": {
      "text/plain": [
       "(36.54434346585151, 37.00586933187864)"
      ]
     },
     "execution_count": 124,
     "metadata": {},
     "output_type": "execute_result"
    }
   ],
   "source": [
    "import statsmodels.api as sm\n",
    "sm.stats.DescrStatsW(df['age']).zconfint_mean()"
   ]
  },
  {
   "cell_type": "code",
   "execution_count": 125,
   "id": "ddde2334",
   "metadata": {},
   "outputs": [],
   "source": [
    "#Hypothesis Testing:¶\n"
   ]
  },
  {
   "cell_type": "raw",
   "id": "99b161a5",
   "metadata": {},
   "source": [
    "Z-score:\n",
    "Z-score is a statistical measure that tells you how far is a data point from the rest of the dataset.\n",
    "In a more technical term, Z-score tells how many standard deviations away a given observation is from the mean.\n",
    "If a z-score is equal to 0, it is on the mean. A positive z-score indicates the raw score is higher than the mean average."
   ]
  },
  {
   "cell_type": "raw",
   "id": "5dc9e81d",
   "metadata": {},
   "source": [
    "import scipy.stats as stats\n",
    "z_scores = stats.zscore(numeric_data)\n",
    "z_scores"
   ]
  },
  {
   "cell_type": "raw",
   "id": "8c26dc8d",
   "metadata": {},
   "source": [
    "P Value:\n",
    "A p-value explains the likelihood of an assumption being true based on the null hypothesis. It is an abbreviation for probability value.\n",
    "Technically, the only way we can accept or reject our null hypothesis is after determining our p-value.\n",
    "The smaller our p-value is, the more delicate it is to trust our null hypothesis.\n",
    "the p-value is usually within the range of 0 and 1."
   ]
  },
  {
   "cell_type": "raw",
   "id": "c708ab71",
   "metadata": {},
   "source": [
    "#Boxlot can plot outliers in data\n",
    "plt.figure(figsize = (20, 10))\n",
    "sns.boxplot(data = df)"
   ]
  },
  {
   "cell_type": "code",
   "execution_count": 126,
   "id": "1cc120de",
   "metadata": {},
   "outputs": [
    {
     "data": {
      "image/png": "[encoded data removed]",
      "text/plain": [
       "<Figure size 640x480 with 1 Axes>"
      ]
     },
     "metadata": {},
     "output_type": "display_data"
    }
   ],
   "source": [
    "sns.boxplot(df['systolic'])\n",
    "plt.title('Boxplot before removing Outliers')\n",
    "plt.show()"
   ]
  },
  {
   "cell_type": "raw",
   "id": "2349ed1a",
   "metadata": {},
   "source": [
    "for i in df['systolic']:\n",
    "    q1 = df['systolic'].quantile(0.25)\n",
    "    q3 = df['systolic'].quantile(0.75)\n",
    "    iqr = q3-q1\n",
    "    lower_tail = q1 - 1.5*iqr\n",
    "    upper_tail = q3 + 1.5*iqr\n",
    "    \n",
    "    if i>upper_tail or i<lower_tail:\n",
    "        df['systolic'] = df['systolic'].replace(i,0)\n",
    "        \n",
    "sns.boxplot(df['systolic'])\n",
    "plt.title('Boxplot after removing Outliers')\n",
    "plt.show()"
   ]
  },
  {
   "cell_type": "code",
   "execution_count": 128,
   "id": "04ed814c",
   "metadata": {},
   "outputs": [
    {
     "name": "stderr",
     "output_type": "stream",
     "text": [
      "C:\\Users\\Shilpa\\AppData\\Local\\Temp\\ipykernel_20704\\354125434.py:1: UserWarning: \n",
      "\n",
      "`distplot` is a deprecated function and will be removed in seaborn v0.14.0.\n",
      "\n",
      "Please adapt your code to use either `displot` (a figure-level function with\n",
      "similar flexibility) or `histplot` (an axes-level function for histograms).\n",
      "\n",
      "For a guide to updating your code to use the new functions, please see\n",
      "https://gist.github.com/mwaskom/de44147ed2974457ad6372750bbe5751\n",
      "\n",
      "  sns.distplot(df['weight_kg'], hist=True, kde=True,\n"
     ]
    },
    {
     "data": {
      "text/plain": [
       "<AxesSubplot: xlabel='weight_kg', ylabel='Density'>"
      ]
     },
     "execution_count": 128,
     "metadata": {},
     "output_type": "execute_result"
    },
    {
     "data": {
      "image/png": "[encoded data removed]",
      "text/plain": [
       "<Figure size 640x480 with 1 Axes>"
      ]
     },
     "metadata": {},
     "output_type": "display_data"
    }
   ],
   "source": [
    "sns.distplot(df['weight_kg'], hist=True, kde=True, \n",
    "             bins=20, color = 'darkblue', \n",
    "             hist_kws={'edgecolor':'black'},\n",
    "             kde_kws={'linewidth': 4})"
   ]
  },
  {
   "cell_type": "code",
   "execution_count": 61,
   "id": "a95fe47b",
   "metadata": {},
   "outputs": [
    {
     "data": {
      "image/png": "[encoded data removed]",
      "text/plain": [
       "<Figure size 640x480 with 1 Axes>"
      ]
     },
     "metadata": {},
     "output_type": "display_data"
    },
    {
     "data": {
      "text/plain": [
       "<Figure size 300x400 with 0 Axes>"
      ]
     },
     "metadata": {},
     "output_type": "display_data"
    }
   ],
   "source": [
    "import statsmodels.api as sm\n",
    "\n",
    "#create Q-Q plot with 45-degree line added to plot for normal data\n",
    "data = np.random.normal(0,1, 1000)\n",
    "fig = sm.qqplot(data, line='45')\n",
    "plt.figure(figsize=(3,4))\n",
    "plt.show()"
   ]
  },
  {
   "cell_type": "raw",
   "id": "bc95a638",
   "metadata": {},
   "source": [
    "TRY all other charts"
   ]
  }
 ],
 "metadata": {
  "kernelspec": {
   "display_name": "Python 3 (ipykernel)",
   "language": "python",
   "name": "python3"
  },
  "language_info": {
   "codemirror_mode": {
    "name": "ipython",
    "version": 3
   },
   "file_extension": ".py",
   "mimetype": "text/x-python",
   "name": "python",
   "nbconvert_exporter": "python",
   "pygments_lexer": "ipython3",
   "version": "3.8.16"
  }
 },
 "nbformat": 4,
 "nbformat_minor": 5
}
